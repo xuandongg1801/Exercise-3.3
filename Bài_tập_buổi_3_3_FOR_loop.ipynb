{
  "nbformat": 4,
  "nbformat_minor": 0,
  "metadata": {
    "colab": {
      "provenance": []
    },
    "kernelspec": {
      "name": "python3",
      "display_name": "Python 3"
    },
    "language_info": {
      "name": "python"
    }
  },
  "cells": [
    {
      "cell_type": "code",
      "source": [
        "for i in range(1, 11):\n",
        "    print(i)"
      ],
      "metadata": {
        "colab": {
          "base_uri": "https://localhost:8080/"
        },
        "id": "NAGcvnGab-7d",
        "outputId": "053a73b7-80c4-4ba7-c3d4-c9fc089b1571"
      },
      "execution_count": 10,
      "outputs": [
        {
          "output_type": "stream",
          "name": "stdout",
          "text": [
            "1\n",
            "2\n",
            "3\n",
            "4\n",
            "5\n",
            "6\n",
            "7\n",
            "8\n",
            "9\n",
            "10\n"
          ]
        }
      ]
    },
    {
      "cell_type": "code",
      "source": [
        "n = int(input(\"Enter a number: \"))\n",
        "total = 0\n",
        "\n",
        "for i in range(1, n + 1):\n",
        "    total += i\n",
        "\n",
        "print(\"The sum from 1 to\", n, \"is:\", total)"
      ],
      "metadata": {
        "colab": {
          "base_uri": "https://localhost:8080/"
        },
        "id": "uCodKxT4cCJT",
        "outputId": "14f6bd42-7d28-43c5-845a-bdade58c1201"
      },
      "execution_count": 11,
      "outputs": [
        {
          "output_type": "stream",
          "name": "stdout",
          "text": [
            "Enter a number: 7\n",
            "The sum from 1 to 7 is: 28\n"
          ]
        }
      ]
    },
    {
      "cell_type": "code",
      "source": [
        "n = int(input(\"Enter a number: \"))\n",
        "choice = input(\"Do you want the sum of even or odd numbers? (even/odd): \")\n",
        "\n",
        "total = 0\n",
        "for i in range(1, n + 1):\n",
        "    if choice == \"even\" and i % 2 == 0:\n",
        "        total += i\n",
        "    elif choice == \"odd\" and i % 2 != 0:\n",
        "        total += i\n",
        "\n",
        "print(\"The sum of\", choice, \"numbers from 1 to\", n, \"is:\", total)"
      ],
      "metadata": {
        "colab": {
          "base_uri": "https://localhost:8080/"
        },
        "id": "qqTdiTw9cGTq",
        "outputId": "48f637a2-223a-4b9b-9b5e-747ecd64e8f5"
      },
      "execution_count": 13,
      "outputs": [
        {
          "output_type": "stream",
          "name": "stdout",
          "text": [
            "Enter a number: 6\n",
            "Do you want the sum of even or odd numbers? (even/odd): even\n",
            "The sum of even numbers from 1 to 6 is: 12\n"
          ]
        }
      ]
    },
    {
      "cell_type": "code",
      "source": [
        "text = input(\"Enter a string: \")\n",
        "vowels = \"aeiouAEIOU\"\n",
        "count = 0\n",
        "\n",
        "for char in text:\n",
        "    if char in vowels:\n",
        "        count += 1\n",
        "\n",
        "print(\"Number of vowels:\", count)"
      ],
      "metadata": {
        "colab": {
          "base_uri": "https://localhost:8080/"
        },
        "id": "jDw0zoUucRLr",
        "outputId": "a7676253-bf18-441e-cfdc-f44f22d3deff"
      },
      "execution_count": 15,
      "outputs": [
        {
          "output_type": "stream",
          "name": "stdout",
          "text": [
            "Enter a string: a\n",
            "Number of vowels: 1\n"
          ]
        }
      ]
    },
    {
      "cell_type": "code",
      "source": [
        "sentence = input(\"Enter a sentence: \")\n",
        "words = sentence.split()\n",
        "print(\"Number of words:\", len(words))"
      ],
      "metadata": {
        "colab": {
          "base_uri": "https://localhost:8080/"
        },
        "id": "5s8s07HtcWD8",
        "outputId": "f4ac4d34-f67d-4cdf-c68a-f6f74c55a456"
      },
      "execution_count": 17,
      "outputs": [
        {
          "output_type": "stream",
          "name": "stdout",
          "text": [
            "Enter a sentence: Hello I'm Dong\n",
            "Number of words: 3\n"
          ]
        }
      ]
    },
    {
      "cell_type": "code",
      "source": [
        "import random\n",
        "\n",
        "print(\"Choose difficulty: easy, medium, hard\")\n",
        "level = input(\"Your choice: \")\n",
        "\n",
        "if level == \"easy\":\n",
        "    attempts = 10\n",
        "elif level == \"medium\":\n",
        "    attempts = 6\n",
        "elif level == \"hard\":\n",
        "    attempts = 4\n",
        "else:\n",
        "    print(\"Invalid level, defaulting to medium\")\n",
        "    attempts = 6\n",
        "\n",
        "secret_number = random.randint(1, 100)\n",
        "print(\"Guess a number between 1 and 100\")\n",
        "\n",
        "for i in range(attempts):\n",
        "    guess = int(input(f\"Attempt {i + 1}/{attempts}: \"))\n",
        "\n",
        "    if guess < secret_number:\n",
        "        print(\"Too low!\")\n",
        "    elif guess > secret_number:\n",
        "        print(\"Too high!\")\n",
        "    else:\n",
        "        print(\"Congratulations! You guessed it right.\")\n",
        "        break\n",
        "else:\n",
        "    print(\"Sorry! You've used all attempts. The number was:\", secret_number)"
      ],
      "metadata": {
        "colab": {
          "base_uri": "https://localhost:8080/"
        },
        "id": "-_yA8OHLcjCL",
        "outputId": "26e1c691-d88a-4a4f-afcb-3592f2864233"
      },
      "execution_count": 18,
      "outputs": [
        {
          "output_type": "stream",
          "name": "stdout",
          "text": [
            "Choose difficulty: easy, medium, hard\n",
            "Your choice: medium\n",
            "Guess a number between 1 and 100\n",
            "Attempt 1/6: 50\n",
            "Too high!\n",
            "Attempt 2/6: 25\n",
            "Too high!\n",
            "Attempt 3/6: 17\n",
            "Too high!\n",
            "Attempt 4/6: 8\n",
            "Too high!\n",
            "Attempt 5/6: 4\n",
            "Too high!\n",
            "Attempt 6/6: 2\n",
            "Too low!\n",
            "Sorry! You've used all attempts. The number was: 3\n"
          ]
        }
      ]
    }
  ]
}